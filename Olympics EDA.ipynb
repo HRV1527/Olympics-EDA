{
 "cells": [
  {
   "cell_type": "markdown",
   "id": "18a47cf9-7f86-4b6f-9426-395414caa4dc",
   "metadata": {},
   "source": [
    "# Importing Libraries"
   ]
  },
  {
   "cell_type": "code",
   "execution_count": 15,
   "id": "0b114be7-a4b5-4280-a66b-717125385ebd",
   "metadata": {},
   "outputs": [],
   "source": [
    "import numpy as np\n",
    "import pandas as pd\n",
    "import matplotlib.pyplot as plt\n",
    "import seaborn as sns\n",
    "import re"
   ]
  },
  {
   "cell_type": "markdown",
   "id": "2a0598ff-5fee-4e29-ba93-a2d21860f3b5",
   "metadata": {},
   "source": [
    "# Reading the Dataset"
   ]
  },
  {
   "cell_type": "code",
   "execution_count": 16,
   "id": "68298cc0-eba8-468b-a6e3-5f57658f86a4",
   "metadata": {},
   "outputs": [],
   "source": [
    "athletes = pd.read_csv(r\"./Data/athlete_events.csv\")\n",
    "noc = pd.read_csv(r\"./Data/noc_regions.csv\")"
   ]
  },
  {
   "cell_type": "markdown",
   "id": "2b083132-e585-4f22-9090-42a4d2c8760c",
   "metadata": {},
   "source": [
    "# Creating a copy of DataFrame"
   ]
  },
  {
   "cell_type": "code",
   "execution_count": 17,
   "id": "6c6e715f-c3eb-4eff-a14a-60fce26925bb",
   "metadata": {},
   "outputs": [],
   "source": [
    "ath = athletes.copy()\n",
    "nat = noc.copy()"
   ]
  },
  {
   "cell_type": "markdown",
   "id": "e262018b-aa8a-46dc-98ac-c7ea2af29779",
   "metadata": {},
   "source": [
    "# Data Exploration"
   ]
  },
  {
   "cell_type": "code",
   "execution_count": 18,
   "id": "0309ed71-0008-4ff2-b2b6-74546490bdbe",
   "metadata": {},
   "outputs": [
    {
     "data": {
      "text/html": [
       "<div>\n",
       "<style scoped>\n",
       "    .dataframe tbody tr th:only-of-type {\n",
       "        vertical-align: middle;\n",
       "    }\n",
       "\n",
       "    .dataframe tbody tr th {\n",
       "        vertical-align: top;\n",
       "    }\n",
       "\n",
       "    .dataframe thead th {\n",
       "        text-align: right;\n",
       "    }\n",
       "</style>\n",
       "<table border=\"1\" class=\"dataframe\">\n",
       "  <thead>\n",
       "    <tr style=\"text-align: right;\">\n",
       "      <th></th>\n",
       "      <th>ID</th>\n",
       "      <th>Name</th>\n",
       "      <th>Gender</th>\n",
       "      <th>Age</th>\n",
       "      <th>Height</th>\n",
       "      <th>Weight</th>\n",
       "      <th>Team</th>\n",
       "      <th>NOC</th>\n",
       "      <th>Games</th>\n",
       "      <th>Year</th>\n",
       "      <th>Season</th>\n",
       "      <th>City</th>\n",
       "      <th>Sport</th>\n",
       "      <th>Event</th>\n",
       "      <th>Medal</th>\n",
       "    </tr>\n",
       "  </thead>\n",
       "  <tbody>\n",
       "    <tr>\n",
       "      <th>0</th>\n",
       "      <td>1</td>\n",
       "      <td>A Dijiang</td>\n",
       "      <td>M</td>\n",
       "      <td>24.0</td>\n",
       "      <td>180.0</td>\n",
       "      <td>80.0</td>\n",
       "      <td>China</td>\n",
       "      <td>CHN</td>\n",
       "      <td>1992 Summer</td>\n",
       "      <td>1992</td>\n",
       "      <td>Summer</td>\n",
       "      <td>Barcelona</td>\n",
       "      <td>Basketball</td>\n",
       "      <td>Basketball Men's Basketball</td>\n",
       "      <td>NaN</td>\n",
       "    </tr>\n",
       "    <tr>\n",
       "      <th>1</th>\n",
       "      <td>2</td>\n",
       "      <td>A Lamusi</td>\n",
       "      <td>M</td>\n",
       "      <td>23.0</td>\n",
       "      <td>170.0</td>\n",
       "      <td>60.0</td>\n",
       "      <td>China</td>\n",
       "      <td>CHN</td>\n",
       "      <td>2012 Summer</td>\n",
       "      <td>2012</td>\n",
       "      <td>Summer</td>\n",
       "      <td>London</td>\n",
       "      <td>Judo</td>\n",
       "      <td>Judo Men's Extra-Lightweight</td>\n",
       "      <td>NaN</td>\n",
       "    </tr>\n",
       "    <tr>\n",
       "      <th>2</th>\n",
       "      <td>3</td>\n",
       "      <td>Gunnar Nielsen Aaby</td>\n",
       "      <td>M</td>\n",
       "      <td>24.0</td>\n",
       "      <td>NaN</td>\n",
       "      <td>NaN</td>\n",
       "      <td>Denmark</td>\n",
       "      <td>DEN</td>\n",
       "      <td>1920 Summer</td>\n",
       "      <td>1920</td>\n",
       "      <td>Summer</td>\n",
       "      <td>Antwerpen</td>\n",
       "      <td>Football</td>\n",
       "      <td>Football Men's Football</td>\n",
       "      <td>NaN</td>\n",
       "    </tr>\n",
       "    <tr>\n",
       "      <th>3</th>\n",
       "      <td>4</td>\n",
       "      <td>Edgar Lindenau Aabye</td>\n",
       "      <td>M</td>\n",
       "      <td>34.0</td>\n",
       "      <td>NaN</td>\n",
       "      <td>NaN</td>\n",
       "      <td>Denmark/Sweden</td>\n",
       "      <td>DEN</td>\n",
       "      <td>1900 Summer</td>\n",
       "      <td>1900</td>\n",
       "      <td>Summer</td>\n",
       "      <td>Paris</td>\n",
       "      <td>Tug-Of-War</td>\n",
       "      <td>Tug-Of-War Men's Tug-Of-War</td>\n",
       "      <td>Gold</td>\n",
       "    </tr>\n",
       "    <tr>\n",
       "      <th>4</th>\n",
       "      <td>5</td>\n",
       "      <td>Christine Jacoba Aaftink</td>\n",
       "      <td>F</td>\n",
       "      <td>21.0</td>\n",
       "      <td>185.0</td>\n",
       "      <td>82.0</td>\n",
       "      <td>Netherlands</td>\n",
       "      <td>NED</td>\n",
       "      <td>1988 Winter</td>\n",
       "      <td>1988</td>\n",
       "      <td>Winter</td>\n",
       "      <td>Calgary</td>\n",
       "      <td>Speed Skating</td>\n",
       "      <td>Speed Skating Women's 500 metres</td>\n",
       "      <td>NaN</td>\n",
       "    </tr>\n",
       "  </tbody>\n",
       "</table>\n",
       "</div>"
      ],
      "text/plain": [
       "   ID                      Name Gender   Age  Height  Weight            Team  \\\n",
       "0   1                 A Dijiang      M  24.0   180.0    80.0           China   \n",
       "1   2                  A Lamusi      M  23.0   170.0    60.0           China   \n",
       "2   3       Gunnar Nielsen Aaby      M  24.0     NaN     NaN         Denmark   \n",
       "3   4      Edgar Lindenau Aabye      M  34.0     NaN     NaN  Denmark/Sweden   \n",
       "4   5  Christine Jacoba Aaftink      F  21.0   185.0    82.0     Netherlands   \n",
       "\n",
       "   NOC        Games  Year  Season       City          Sport  \\\n",
       "0  CHN  1992 Summer  1992  Summer  Barcelona     Basketball   \n",
       "1  CHN  2012 Summer  2012  Summer     London           Judo   \n",
       "2  DEN  1920 Summer  1920  Summer  Antwerpen       Football   \n",
       "3  DEN  1900 Summer  1900  Summer      Paris     Tug-Of-War   \n",
       "4  NED  1988 Winter  1988  Winter    Calgary  Speed Skating   \n",
       "\n",
       "                              Event Medal  \n",
       "0       Basketball Men's Basketball   NaN  \n",
       "1      Judo Men's Extra-Lightweight   NaN  \n",
       "2           Football Men's Football   NaN  \n",
       "3       Tug-Of-War Men's Tug-Of-War  Gold  \n",
       "4  Speed Skating Women's 500 metres   NaN  "
      ]
     },
     "execution_count": 18,
     "metadata": {},
     "output_type": "execute_result"
    }
   ],
   "source": [
    "ath.head()"
   ]
  },
  {
   "cell_type": "code",
   "execution_count": 19,
   "id": "bc222e4c-f3dd-41b9-a074-e74e3eb7fcd7",
   "metadata": {},
   "outputs": [
    {
     "data": {
      "text/html": [
       "<div>\n",
       "<style scoped>\n",
       "    .dataframe tbody tr th:only-of-type {\n",
       "        vertical-align: middle;\n",
       "    }\n",
       "\n",
       "    .dataframe tbody tr th {\n",
       "        vertical-align: top;\n",
       "    }\n",
       "\n",
       "    .dataframe thead th {\n",
       "        text-align: right;\n",
       "    }\n",
       "</style>\n",
       "<table border=\"1\" class=\"dataframe\">\n",
       "  <thead>\n",
       "    <tr style=\"text-align: right;\">\n",
       "      <th></th>\n",
       "      <th>ID</th>\n",
       "      <th>Name</th>\n",
       "      <th>Gender</th>\n",
       "      <th>Age</th>\n",
       "      <th>Height</th>\n",
       "      <th>Weight</th>\n",
       "      <th>Team</th>\n",
       "      <th>NOC</th>\n",
       "      <th>Games</th>\n",
       "      <th>Year</th>\n",
       "      <th>Season</th>\n",
       "      <th>City</th>\n",
       "      <th>Sport</th>\n",
       "      <th>Event</th>\n",
       "      <th>Medal</th>\n",
       "    </tr>\n",
       "  </thead>\n",
       "  <tbody>\n",
       "    <tr>\n",
       "      <th>271111</th>\n",
       "      <td>135569</td>\n",
       "      <td>Andrzej ya</td>\n",
       "      <td>M</td>\n",
       "      <td>29.0</td>\n",
       "      <td>179.0</td>\n",
       "      <td>89.0</td>\n",
       "      <td>Poland-1</td>\n",
       "      <td>POL</td>\n",
       "      <td>1976 Winter</td>\n",
       "      <td>1976</td>\n",
       "      <td>Winter</td>\n",
       "      <td>Innsbruck</td>\n",
       "      <td>Luge</td>\n",
       "      <td>Luge Mixed (Men)'s Doubles</td>\n",
       "      <td>NaN</td>\n",
       "    </tr>\n",
       "    <tr>\n",
       "      <th>271112</th>\n",
       "      <td>135570</td>\n",
       "      <td>Piotr ya</td>\n",
       "      <td>M</td>\n",
       "      <td>27.0</td>\n",
       "      <td>176.0</td>\n",
       "      <td>59.0</td>\n",
       "      <td>Poland</td>\n",
       "      <td>POL</td>\n",
       "      <td>2014 Winter</td>\n",
       "      <td>2014</td>\n",
       "      <td>Winter</td>\n",
       "      <td>Sochi</td>\n",
       "      <td>Ski Jumping</td>\n",
       "      <td>Ski Jumping Men's Large Hill, Individual</td>\n",
       "      <td>NaN</td>\n",
       "    </tr>\n",
       "    <tr>\n",
       "      <th>271113</th>\n",
       "      <td>135570</td>\n",
       "      <td>Piotr ya</td>\n",
       "      <td>M</td>\n",
       "      <td>27.0</td>\n",
       "      <td>176.0</td>\n",
       "      <td>59.0</td>\n",
       "      <td>Poland</td>\n",
       "      <td>POL</td>\n",
       "      <td>2014 Winter</td>\n",
       "      <td>2014</td>\n",
       "      <td>Winter</td>\n",
       "      <td>Sochi</td>\n",
       "      <td>Ski Jumping</td>\n",
       "      <td>Ski Jumping Men's Large Hill, Team</td>\n",
       "      <td>NaN</td>\n",
       "    </tr>\n",
       "    <tr>\n",
       "      <th>271114</th>\n",
       "      <td>135571</td>\n",
       "      <td>Tomasz Ireneusz ya</td>\n",
       "      <td>M</td>\n",
       "      <td>30.0</td>\n",
       "      <td>185.0</td>\n",
       "      <td>96.0</td>\n",
       "      <td>Poland</td>\n",
       "      <td>POL</td>\n",
       "      <td>1998 Winter</td>\n",
       "      <td>1998</td>\n",
       "      <td>Winter</td>\n",
       "      <td>Nagano</td>\n",
       "      <td>Bobsleigh</td>\n",
       "      <td>Bobsleigh Men's Four</td>\n",
       "      <td>NaN</td>\n",
       "    </tr>\n",
       "    <tr>\n",
       "      <th>271115</th>\n",
       "      <td>135571</td>\n",
       "      <td>Tomasz Ireneusz ya</td>\n",
       "      <td>M</td>\n",
       "      <td>34.0</td>\n",
       "      <td>185.0</td>\n",
       "      <td>96.0</td>\n",
       "      <td>Poland</td>\n",
       "      <td>POL</td>\n",
       "      <td>2002 Winter</td>\n",
       "      <td>2002</td>\n",
       "      <td>Winter</td>\n",
       "      <td>Salt Lake City</td>\n",
       "      <td>Bobsleigh</td>\n",
       "      <td>Bobsleigh Men's Four</td>\n",
       "      <td>NaN</td>\n",
       "    </tr>\n",
       "  </tbody>\n",
       "</table>\n",
       "</div>"
      ],
      "text/plain": [
       "            ID                Name Gender   Age  Height  Weight      Team  \\\n",
       "271111  135569          Andrzej ya      M  29.0   179.0    89.0  Poland-1   \n",
       "271112  135570            Piotr ya      M  27.0   176.0    59.0    Poland   \n",
       "271113  135570            Piotr ya      M  27.0   176.0    59.0    Poland   \n",
       "271114  135571  Tomasz Ireneusz ya      M  30.0   185.0    96.0    Poland   \n",
       "271115  135571  Tomasz Ireneusz ya      M  34.0   185.0    96.0    Poland   \n",
       "\n",
       "        NOC        Games  Year  Season            City        Sport  \\\n",
       "271111  POL  1976 Winter  1976  Winter       Innsbruck         Luge   \n",
       "271112  POL  2014 Winter  2014  Winter           Sochi  Ski Jumping   \n",
       "271113  POL  2014 Winter  2014  Winter           Sochi  Ski Jumping   \n",
       "271114  POL  1998 Winter  1998  Winter          Nagano    Bobsleigh   \n",
       "271115  POL  2002 Winter  2002  Winter  Salt Lake City    Bobsleigh   \n",
       "\n",
       "                                           Event Medal  \n",
       "271111                Luge Mixed (Men)'s Doubles   NaN  \n",
       "271112  Ski Jumping Men's Large Hill, Individual   NaN  \n",
       "271113        Ski Jumping Men's Large Hill, Team   NaN  \n",
       "271114                      Bobsleigh Men's Four   NaN  \n",
       "271115                      Bobsleigh Men's Four   NaN  "
      ]
     },
     "execution_count": 19,
     "metadata": {},
     "output_type": "execute_result"
    }
   ],
   "source": [
    "ath.tail()"
   ]
  },
  {
   "cell_type": "code",
   "execution_count": 20,
   "id": "b2fb8a85-abf0-406d-9a95-2474593a1eef",
   "metadata": {},
   "outputs": [
    {
     "data": {
      "text/html": [
       "<div>\n",
       "<style scoped>\n",
       "    .dataframe tbody tr th:only-of-type {\n",
       "        vertical-align: middle;\n",
       "    }\n",
       "\n",
       "    .dataframe tbody tr th {\n",
       "        vertical-align: top;\n",
       "    }\n",
       "\n",
       "    .dataframe thead th {\n",
       "        text-align: right;\n",
       "    }\n",
       "</style>\n",
       "<table border=\"1\" class=\"dataframe\">\n",
       "  <thead>\n",
       "    <tr style=\"text-align: right;\">\n",
       "      <th></th>\n",
       "      <th>NOC</th>\n",
       "      <th>region</th>\n",
       "      <th>notes</th>\n",
       "    </tr>\n",
       "  </thead>\n",
       "  <tbody>\n",
       "    <tr>\n",
       "      <th>0</th>\n",
       "      <td>AFG</td>\n",
       "      <td>Afghanistan</td>\n",
       "      <td>NaN</td>\n",
       "    </tr>\n",
       "    <tr>\n",
       "      <th>1</th>\n",
       "      <td>AHO</td>\n",
       "      <td>Curacao</td>\n",
       "      <td>Netherlands Antilles</td>\n",
       "    </tr>\n",
       "    <tr>\n",
       "      <th>2</th>\n",
       "      <td>ALB</td>\n",
       "      <td>Albania</td>\n",
       "      <td>NaN</td>\n",
       "    </tr>\n",
       "    <tr>\n",
       "      <th>3</th>\n",
       "      <td>ALG</td>\n",
       "      <td>Algeria</td>\n",
       "      <td>NaN</td>\n",
       "    </tr>\n",
       "    <tr>\n",
       "      <th>4</th>\n",
       "      <td>AND</td>\n",
       "      <td>Andorra</td>\n",
       "      <td>NaN</td>\n",
       "    </tr>\n",
       "  </tbody>\n",
       "</table>\n",
       "</div>"
      ],
      "text/plain": [
       "   NOC       region                 notes\n",
       "0  AFG  Afghanistan                   NaN\n",
       "1  AHO      Curacao  Netherlands Antilles\n",
       "2  ALB      Albania                   NaN\n",
       "3  ALG      Algeria                   NaN\n",
       "4  AND      Andorra                   NaN"
      ]
     },
     "execution_count": 20,
     "metadata": {},
     "output_type": "execute_result"
    }
   ],
   "source": [
    "nat.head()"
   ]
  },
  {
   "cell_type": "code",
   "execution_count": 21,
   "id": "4084df61-02bc-4db8-a8ee-2e207a679627",
   "metadata": {
    "scrolled": true
   },
   "outputs": [
    {
     "name": "stdout",
     "output_type": "stream",
     "text": [
      "<class 'pandas.core.frame.DataFrame'>\n",
      "RangeIndex: 271116 entries, 0 to 271115\n",
      "Data columns (total 15 columns):\n",
      " #   Column  Non-Null Count   Dtype  \n",
      "---  ------  --------------   -----  \n",
      " 0   ID      271116 non-null  int64  \n",
      " 1   Name    271116 non-null  object \n",
      " 2   Gender  271116 non-null  object \n",
      " 3   Age     261642 non-null  float64\n",
      " 4   Height  210945 non-null  float64\n",
      " 5   Weight  208241 non-null  float64\n",
      " 6   Team    271116 non-null  object \n",
      " 7   NOC     271116 non-null  object \n",
      " 8   Games   271116 non-null  object \n",
      " 9   Year    271116 non-null  int64  \n",
      " 10  Season  271116 non-null  object \n",
      " 11  City    271116 non-null  object \n",
      " 12  Sport   271116 non-null  object \n",
      " 13  Event   271116 non-null  object \n",
      " 14  Medal   39783 non-null   object \n",
      "dtypes: float64(3), int64(2), object(10)\n",
      "memory usage: 31.0+ MB\n"
     ]
    }
   ],
   "source": [
    "ath.info()"
   ]
  },
  {
   "cell_type": "code",
   "execution_count": 22,
   "id": "6be889e6-c9c2-476f-828b-52234154bea1",
   "metadata": {},
   "outputs": [
    {
     "data": {
      "text/html": [
       "<div>\n",
       "<style scoped>\n",
       "    .dataframe tbody tr th:only-of-type {\n",
       "        vertical-align: middle;\n",
       "    }\n",
       "\n",
       "    .dataframe tbody tr th {\n",
       "        vertical-align: top;\n",
       "    }\n",
       "\n",
       "    .dataframe thead th {\n",
       "        text-align: right;\n",
       "    }\n",
       "</style>\n",
       "<table border=\"1\" class=\"dataframe\">\n",
       "  <thead>\n",
       "    <tr style=\"text-align: right;\">\n",
       "      <th></th>\n",
       "      <th>ID</th>\n",
       "      <th>Age</th>\n",
       "      <th>Height</th>\n",
       "      <th>Weight</th>\n",
       "      <th>Year</th>\n",
       "    </tr>\n",
       "  </thead>\n",
       "  <tbody>\n",
       "    <tr>\n",
       "      <th>count</th>\n",
       "      <td>271116.000000</td>\n",
       "      <td>261642.000000</td>\n",
       "      <td>210945.000000</td>\n",
       "      <td>208241.000000</td>\n",
       "      <td>271116.000000</td>\n",
       "    </tr>\n",
       "    <tr>\n",
       "      <th>mean</th>\n",
       "      <td>68248.954396</td>\n",
       "      <td>25.556898</td>\n",
       "      <td>175.338970</td>\n",
       "      <td>70.702393</td>\n",
       "      <td>1978.378480</td>\n",
       "    </tr>\n",
       "    <tr>\n",
       "      <th>std</th>\n",
       "      <td>39022.286345</td>\n",
       "      <td>6.393561</td>\n",
       "      <td>10.518462</td>\n",
       "      <td>14.348020</td>\n",
       "      <td>29.877632</td>\n",
       "    </tr>\n",
       "    <tr>\n",
       "      <th>min</th>\n",
       "      <td>1.000000</td>\n",
       "      <td>10.000000</td>\n",
       "      <td>127.000000</td>\n",
       "      <td>25.000000</td>\n",
       "      <td>1896.000000</td>\n",
       "    </tr>\n",
       "    <tr>\n",
       "      <th>25%</th>\n",
       "      <td>34643.000000</td>\n",
       "      <td>21.000000</td>\n",
       "      <td>168.000000</td>\n",
       "      <td>60.000000</td>\n",
       "      <td>1960.000000</td>\n",
       "    </tr>\n",
       "    <tr>\n",
       "      <th>50%</th>\n",
       "      <td>68205.000000</td>\n",
       "      <td>24.000000</td>\n",
       "      <td>175.000000</td>\n",
       "      <td>70.000000</td>\n",
       "      <td>1988.000000</td>\n",
       "    </tr>\n",
       "    <tr>\n",
       "      <th>75%</th>\n",
       "      <td>102097.250000</td>\n",
       "      <td>28.000000</td>\n",
       "      <td>183.000000</td>\n",
       "      <td>79.000000</td>\n",
       "      <td>2002.000000</td>\n",
       "    </tr>\n",
       "    <tr>\n",
       "      <th>max</th>\n",
       "      <td>135571.000000</td>\n",
       "      <td>97.000000</td>\n",
       "      <td>226.000000</td>\n",
       "      <td>214.000000</td>\n",
       "      <td>2016.000000</td>\n",
       "    </tr>\n",
       "  </tbody>\n",
       "</table>\n",
       "</div>"
      ],
      "text/plain": [
       "                  ID            Age         Height         Weight  \\\n",
       "count  271116.000000  261642.000000  210945.000000  208241.000000   \n",
       "mean    68248.954396      25.556898     175.338970      70.702393   \n",
       "std     39022.286345       6.393561      10.518462      14.348020   \n",
       "min         1.000000      10.000000     127.000000      25.000000   \n",
       "25%     34643.000000      21.000000     168.000000      60.000000   \n",
       "50%     68205.000000      24.000000     175.000000      70.000000   \n",
       "75%    102097.250000      28.000000     183.000000      79.000000   \n",
       "max    135571.000000      97.000000     226.000000     214.000000   \n",
       "\n",
       "                Year  \n",
       "count  271116.000000  \n",
       "mean     1978.378480  \n",
       "std        29.877632  \n",
       "min      1896.000000  \n",
       "25%      1960.000000  \n",
       "50%      1988.000000  \n",
       "75%      2002.000000  \n",
       "max      2016.000000  "
      ]
     },
     "execution_count": 22,
     "metadata": {},
     "output_type": "execute_result"
    }
   ],
   "source": [
    "ath.describe()"
   ]
  },
  {
   "cell_type": "code",
   "execution_count": 23,
   "id": "a29a917f-f2c9-4ae5-b386-08e95b4eca60",
   "metadata": {},
   "outputs": [
    {
     "data": {
      "text/plain": [
       "(271116, 15)"
      ]
     },
     "execution_count": 23,
     "metadata": {},
     "output_type": "execute_result"
    }
   ],
   "source": [
    "ath.shape"
   ]
  },
  {
   "cell_type": "code",
   "execution_count": 24,
   "id": "0d9b2bb0-2d3e-4517-8fc2-90b0de0b988a",
   "metadata": {},
   "outputs": [
    {
     "data": {
      "text/plain": [
       "ID             0\n",
       "Name           0\n",
       "Gender         0\n",
       "Age         9474\n",
       "Height     60171\n",
       "Weight     62875\n",
       "Team           0\n",
       "NOC            0\n",
       "Games          0\n",
       "Year           0\n",
       "Season         0\n",
       "City           0\n",
       "Sport          0\n",
       "Event          0\n",
       "Medal     231333\n",
       "dtype: int64"
      ]
     },
     "execution_count": 24,
     "metadata": {},
     "output_type": "execute_result"
    }
   ],
   "source": [
    "ath.isnull().sum()"
   ]
  },
  {
   "cell_type": "markdown",
   "id": "50ca134a-8e8f-4700-a3e4-6f033b89bde8",
   "metadata": {},
   "source": [
    "# Data Cleaning and Manipulation"
   ]
  },
  {
   "cell_type": "markdown",
   "id": "443ecc86-ff0e-4ff4-889b-01a952d3167e",
   "metadata": {},
   "source": [
    "1. Add a new column \"region\" to the ath DataFrame. And the region column should have regions according to the elements of the 'NOC' columns of the 'nat' DataFrame."
   ]
  },
  {
   "cell_type": "code",
   "execution_count": 25,
   "id": "c8a746ac-5f27-48d4-9ef3-a66811b7fe45",
   "metadata": {},
   "outputs": [
    {
     "data": {
      "text/html": [
       "<div>\n",
       "<style scoped>\n",
       "    .dataframe tbody tr th:only-of-type {\n",
       "        vertical-align: middle;\n",
       "    }\n",
       "\n",
       "    .dataframe tbody tr th {\n",
       "        vertical-align: top;\n",
       "    }\n",
       "\n",
       "    .dataframe thead th {\n",
       "        text-align: right;\n",
       "    }\n",
       "</style>\n",
       "<table border=\"1\" class=\"dataframe\">\n",
       "  <thead>\n",
       "    <tr style=\"text-align: right;\">\n",
       "      <th></th>\n",
       "      <th>ID</th>\n",
       "      <th>Name</th>\n",
       "      <th>Gender</th>\n",
       "      <th>Age</th>\n",
       "      <th>Height</th>\n",
       "      <th>Weight</th>\n",
       "      <th>Team</th>\n",
       "      <th>NOC</th>\n",
       "      <th>Games</th>\n",
       "      <th>Year</th>\n",
       "      <th>Season</th>\n",
       "      <th>City</th>\n",
       "      <th>Sport</th>\n",
       "      <th>Event</th>\n",
       "      <th>Medal</th>\n",
       "    </tr>\n",
       "  </thead>\n",
       "  <tbody>\n",
       "    <tr>\n",
       "      <th>578</th>\n",
       "      <td>332</td>\n",
       "      <td>Zarinah Abdullah</td>\n",
       "      <td>F</td>\n",
       "      <td>21.0</td>\n",
       "      <td>NaN</td>\n",
       "      <td>NaN</td>\n",
       "      <td>Singapore</td>\n",
       "      <td>SGP</td>\n",
       "      <td>1992 Summer</td>\n",
       "      <td>1992</td>\n",
       "      <td>Summer</td>\n",
       "      <td>Barcelona</td>\n",
       "      <td>Badminton</td>\n",
       "      <td>Badminton Women's Singles</td>\n",
       "      <td>NaN</td>\n",
       "    </tr>\n",
       "  </tbody>\n",
       "</table>\n",
       "</div>"
      ],
      "text/plain": [
       "      ID              Name Gender   Age  Height  Weight       Team  NOC  \\\n",
       "578  332  Zarinah Abdullah      F  21.0     NaN     NaN  Singapore  SGP   \n",
       "\n",
       "           Games  Year  Season       City      Sport  \\\n",
       "578  1992 Summer  1992  Summer  Barcelona  Badminton   \n",
       "\n",
       "                         Event Medal  \n",
       "578  Badminton Women's Singles   NaN  "
      ]
     },
     "execution_count": 25,
     "metadata": {},
     "output_type": "execute_result"
    }
   ],
   "source": [
    "ath.iloc[[578]]"
   ]
  },
  {
   "cell_type": "code",
   "execution_count": 26,
   "id": "8908216d-9d93-4f8c-8dcc-4829dcf55b9b",
   "metadata": {},
   "outputs": [
    {
     "data": {
      "text/html": [
       "<div>\n",
       "<style scoped>\n",
       "    .dataframe tbody tr th:only-of-type {\n",
       "        vertical-align: middle;\n",
       "    }\n",
       "\n",
       "    .dataframe tbody tr th {\n",
       "        vertical-align: top;\n",
       "    }\n",
       "\n",
       "    .dataframe thead th {\n",
       "        text-align: right;\n",
       "    }\n",
       "</style>\n",
       "<table border=\"1\" class=\"dataframe\">\n",
       "  <thead>\n",
       "    <tr style=\"text-align: right;\">\n",
       "      <th></th>\n",
       "      <th>NOC</th>\n",
       "      <th>region</th>\n",
       "      <th>notes</th>\n",
       "    </tr>\n",
       "  </thead>\n",
       "  <tbody>\n",
       "    <tr>\n",
       "      <th>178</th>\n",
       "      <td>SIN</td>\n",
       "      <td>Singapore</td>\n",
       "      <td>NaN</td>\n",
       "    </tr>\n",
       "  </tbody>\n",
       "</table>\n",
       "</div>"
      ],
      "text/plain": [
       "     NOC     region notes\n",
       "178  SIN  Singapore   NaN"
      ]
     },
     "execution_count": 26,
     "metadata": {},
     "output_type": "execute_result"
    }
   ],
   "source": [
    "nat[nat.region=='Singapore']"
   ]
  },
  {
   "cell_type": "code",
   "execution_count": 27,
   "id": "08b550da-0939-413e-a48e-98f88c28207f",
   "metadata": {},
   "outputs": [],
   "source": [
    "# The ISO code of Singapore in nat Dataframe is wrong.\n",
    "# Replaced it with right one to avoid index out of range ie. empty list error.\n",
    "nat.NOC = nat.NOC.replace(['SIN'],'SGP')"
   ]
  },
  {
   "cell_type": "code",
   "execution_count": 28,
   "id": "715348a9-a88c-420e-8f07-d5b1e71ec1e2",
   "metadata": {},
   "outputs": [
    {
     "data": {
      "text/plain": [
       "0               China\n",
       "1               China\n",
       "2             Denmark\n",
       "3             Denmark\n",
       "4         Netherlands\n",
       "             ...     \n",
       "271111         Poland\n",
       "271112         Poland\n",
       "271113         Poland\n",
       "271114         Poland\n",
       "271115         Poland\n",
       "Name: NOC, Length: 271116, dtype: object"
      ]
     },
     "execution_count": 28,
     "metadata": {},
     "output_type": "execute_result"
    }
   ],
   "source": [
    "# Method 1 - using a lambda function to replace eeach value of noc with corresponding region column of nat DataFrame\n",
    "ath.NOC.apply(lambda da: nat[nat.NOC == da ]['region'].values[0]) "
   ]
  },
  {
   "cell_type": "code",
   "execution_count": 29,
   "id": "0e774765-7477-4ebe-8879-1fed137e1979",
   "metadata": {},
   "outputs": [],
   "source": [
    "#Method 2 - can also use the map method. Another alternative is merge method.\n",
    "#Method 2 is considerably faster.\n",
    "regions = ath['NOC'].map(nat.set_index('NOC')['region'])\n",
    "ath.insert(7,'regions',regions)\n",
    "ath.drop('NOC',axis=1,inplace=True)"
   ]
  },
  {
   "cell_type": "code",
   "execution_count": 30,
   "id": "8507ff9c-6638-43ff-9717-571a7704e198",
   "metadata": {},
   "outputs": [
    {
     "data": {
      "text/html": [
       "<div>\n",
       "<style scoped>\n",
       "    .dataframe tbody tr th:only-of-type {\n",
       "        vertical-align: middle;\n",
       "    }\n",
       "\n",
       "    .dataframe tbody tr th {\n",
       "        vertical-align: top;\n",
       "    }\n",
       "\n",
       "    .dataframe thead th {\n",
       "        text-align: right;\n",
       "    }\n",
       "</style>\n",
       "<table border=\"1\" class=\"dataframe\">\n",
       "  <thead>\n",
       "    <tr style=\"text-align: right;\">\n",
       "      <th></th>\n",
       "      <th>ID</th>\n",
       "      <th>Name</th>\n",
       "      <th>Gender</th>\n",
       "      <th>Age</th>\n",
       "      <th>Height</th>\n",
       "      <th>Weight</th>\n",
       "      <th>Team</th>\n",
       "      <th>regions</th>\n",
       "      <th>Games</th>\n",
       "      <th>Year</th>\n",
       "      <th>Season</th>\n",
       "      <th>City</th>\n",
       "      <th>Sport</th>\n",
       "      <th>Event</th>\n",
       "      <th>Medal</th>\n",
       "    </tr>\n",
       "  </thead>\n",
       "  <tbody>\n",
       "    <tr>\n",
       "      <th>0</th>\n",
       "      <td>1</td>\n",
       "      <td>A Dijiang</td>\n",
       "      <td>M</td>\n",
       "      <td>24.0</td>\n",
       "      <td>180.0</td>\n",
       "      <td>80.0</td>\n",
       "      <td>China</td>\n",
       "      <td>China</td>\n",
       "      <td>1992 Summer</td>\n",
       "      <td>1992</td>\n",
       "      <td>Summer</td>\n",
       "      <td>Barcelona</td>\n",
       "      <td>Basketball</td>\n",
       "      <td>Basketball Men's Basketball</td>\n",
       "      <td>NaN</td>\n",
       "    </tr>\n",
       "    <tr>\n",
       "      <th>1</th>\n",
       "      <td>2</td>\n",
       "      <td>A Lamusi</td>\n",
       "      <td>M</td>\n",
       "      <td>23.0</td>\n",
       "      <td>170.0</td>\n",
       "      <td>60.0</td>\n",
       "      <td>China</td>\n",
       "      <td>China</td>\n",
       "      <td>2012 Summer</td>\n",
       "      <td>2012</td>\n",
       "      <td>Summer</td>\n",
       "      <td>London</td>\n",
       "      <td>Judo</td>\n",
       "      <td>Judo Men's Extra-Lightweight</td>\n",
       "      <td>NaN</td>\n",
       "    </tr>\n",
       "    <tr>\n",
       "      <th>2</th>\n",
       "      <td>3</td>\n",
       "      <td>Gunnar Nielsen Aaby</td>\n",
       "      <td>M</td>\n",
       "      <td>24.0</td>\n",
       "      <td>NaN</td>\n",
       "      <td>NaN</td>\n",
       "      <td>Denmark</td>\n",
       "      <td>Denmark</td>\n",
       "      <td>1920 Summer</td>\n",
       "      <td>1920</td>\n",
       "      <td>Summer</td>\n",
       "      <td>Antwerpen</td>\n",
       "      <td>Football</td>\n",
       "      <td>Football Men's Football</td>\n",
       "      <td>NaN</td>\n",
       "    </tr>\n",
       "    <tr>\n",
       "      <th>3</th>\n",
       "      <td>4</td>\n",
       "      <td>Edgar Lindenau Aabye</td>\n",
       "      <td>M</td>\n",
       "      <td>34.0</td>\n",
       "      <td>NaN</td>\n",
       "      <td>NaN</td>\n",
       "      <td>Denmark/Sweden</td>\n",
       "      <td>Denmark</td>\n",
       "      <td>1900 Summer</td>\n",
       "      <td>1900</td>\n",
       "      <td>Summer</td>\n",
       "      <td>Paris</td>\n",
       "      <td>Tug-Of-War</td>\n",
       "      <td>Tug-Of-War Men's Tug-Of-War</td>\n",
       "      <td>Gold</td>\n",
       "    </tr>\n",
       "    <tr>\n",
       "      <th>4</th>\n",
       "      <td>5</td>\n",
       "      <td>Christine Jacoba Aaftink</td>\n",
       "      <td>F</td>\n",
       "      <td>21.0</td>\n",
       "      <td>185.0</td>\n",
       "      <td>82.0</td>\n",
       "      <td>Netherlands</td>\n",
       "      <td>Netherlands</td>\n",
       "      <td>1988 Winter</td>\n",
       "      <td>1988</td>\n",
       "      <td>Winter</td>\n",
       "      <td>Calgary</td>\n",
       "      <td>Speed Skating</td>\n",
       "      <td>Speed Skating Women's 500 metres</td>\n",
       "      <td>NaN</td>\n",
       "    </tr>\n",
       "  </tbody>\n",
       "</table>\n",
       "</div>"
      ],
      "text/plain": [
       "   ID                      Name Gender   Age  Height  Weight            Team  \\\n",
       "0   1                 A Dijiang      M  24.0   180.0    80.0           China   \n",
       "1   2                  A Lamusi      M  23.0   170.0    60.0           China   \n",
       "2   3       Gunnar Nielsen Aaby      M  24.0     NaN     NaN         Denmark   \n",
       "3   4      Edgar Lindenau Aabye      M  34.0     NaN     NaN  Denmark/Sweden   \n",
       "4   5  Christine Jacoba Aaftink      F  21.0   185.0    82.0     Netherlands   \n",
       "\n",
       "       regions        Games  Year  Season       City          Sport  \\\n",
       "0        China  1992 Summer  1992  Summer  Barcelona     Basketball   \n",
       "1        China  2012 Summer  2012  Summer     London           Judo   \n",
       "2      Denmark  1920 Summer  1920  Summer  Antwerpen       Football   \n",
       "3      Denmark  1900 Summer  1900  Summer      Paris     Tug-Of-War   \n",
       "4  Netherlands  1988 Winter  1988  Winter    Calgary  Speed Skating   \n",
       "\n",
       "                              Event Medal  \n",
       "0       Basketball Men's Basketball   NaN  \n",
       "1      Judo Men's Extra-Lightweight   NaN  \n",
       "2           Football Men's Football   NaN  \n",
       "3       Tug-Of-War Men's Tug-Of-War  Gold  \n",
       "4  Speed Skating Women's 500 metres   NaN  "
      ]
     },
     "execution_count": 30,
     "metadata": {},
     "output_type": "execute_result"
    }
   ],
   "source": [
    "ath.head()"
   ]
  },
  {
   "cell_type": "markdown",
   "id": "58985d68-cf5d-4254-940b-fb500aefa444",
   "metadata": {},
   "source": [
    "2. Handling the null values of the columns - 'Age', 'Height' and 'Weight' "
   ]
  },
  {
   "cell_type": "code",
   "execution_count": 31,
   "id": "3d4c2093-bfe3-4b8c-a15a-48bb0a7c3908",
   "metadata": {},
   "outputs": [],
   "source": [
    "ath['Age'].fillna(round(ath.Age.mean()), inplace = True)"
   ]
  },
  {
   "cell_type": "code",
   "execution_count": 32,
   "id": "6ee0baa3-a3ce-4b7b-8e13-c87cd4922f8e",
   "metadata": {},
   "outputs": [],
   "source": [
    "ath['Height'].fillna(round(ath.Height.mean()), inplace = True)"
   ]
  },
  {
   "cell_type": "code",
   "execution_count": 33,
   "id": "f73ff4e1-7463-4aca-9ac1-09fd3675101e",
   "metadata": {},
   "outputs": [],
   "source": [
    "ath['Weight'].fillna(round(ath.Weight.mean()), inplace = True)"
   ]
  },
  {
   "cell_type": "code",
   "execution_count": 34,
   "id": "2455eec5-0603-4a5c-8aeb-eef6cb30a7da",
   "metadata": {},
   "outputs": [
    {
     "data": {
      "text/plain": [
       "ID              0\n",
       "Name            0\n",
       "Gender          0\n",
       "Age             0\n",
       "Height          0\n",
       "Weight          0\n",
       "Team            0\n",
       "regions        21\n",
       "Games           0\n",
       "Year            0\n",
       "Season          0\n",
       "City            0\n",
       "Sport           0\n",
       "Event           0\n",
       "Medal      231333\n",
       "dtype: int64"
      ]
     },
     "execution_count": 34,
     "metadata": {},
     "output_type": "execute_result"
    }
   ],
   "source": [
    "ath.isnull().sum()"
   ]
  },
  {
   "cell_type": "markdown",
   "id": "dbfa5fd2-414f-4dd3-9a3d-32ac5a3983d4",
   "metadata": {},
   "source": [
    "3. List out all the values of region column where the values are null."
   ]
  },
  {
   "cell_type": "code",
   "execution_count": 35,
   "id": "38ed9f16-9ec0-488e-ad98-6607c31e5021",
   "metadata": {
    "scrolled": true
   },
   "outputs": [
    {
     "data": {
      "text/html": [
       "<div>\n",
       "<style scoped>\n",
       "    .dataframe tbody tr th:only-of-type {\n",
       "        vertical-align: middle;\n",
       "    }\n",
       "\n",
       "    .dataframe tbody tr th {\n",
       "        vertical-align: top;\n",
       "    }\n",
       "\n",
       "    .dataframe thead th {\n",
       "        text-align: right;\n",
       "    }\n",
       "</style>\n",
       "<table border=\"1\" class=\"dataframe\">\n",
       "  <thead>\n",
       "    <tr style=\"text-align: right;\">\n",
       "      <th></th>\n",
       "      <th>ID</th>\n",
       "      <th>Name</th>\n",
       "      <th>Gender</th>\n",
       "      <th>Age</th>\n",
       "      <th>Height</th>\n",
       "      <th>Weight</th>\n",
       "      <th>Team</th>\n",
       "      <th>regions</th>\n",
       "      <th>Games</th>\n",
       "      <th>Year</th>\n",
       "      <th>Season</th>\n",
       "      <th>City</th>\n",
       "      <th>Sport</th>\n",
       "      <th>Event</th>\n",
       "      <th>Medal</th>\n",
       "    </tr>\n",
       "  </thead>\n",
       "  <tbody>\n",
       "    <tr>\n",
       "      <th>6267</th>\n",
       "      <td>3515</td>\n",
       "      <td>Paulo Amotun Lokoro</td>\n",
       "      <td>M</td>\n",
       "      <td>24.0</td>\n",
       "      <td>170.0</td>\n",
       "      <td>61.0</td>\n",
       "      <td>Refugee Olympic Athletes</td>\n",
       "      <td>NaN</td>\n",
       "      <td>2016 Summer</td>\n",
       "      <td>2016</td>\n",
       "      <td>Summer</td>\n",
       "      <td>Rio de Janeiro</td>\n",
       "      <td>Athletics</td>\n",
       "      <td>Athletics Men's 1,500 metres</td>\n",
       "      <td>NaN</td>\n",
       "    </tr>\n",
       "    <tr>\n",
       "      <th>7908</th>\n",
       "      <td>4379</td>\n",
       "      <td>Rami Anis</td>\n",
       "      <td>M</td>\n",
       "      <td>25.0</td>\n",
       "      <td>178.0</td>\n",
       "      <td>78.0</td>\n",
       "      <td>Refugee Olympic Athletes</td>\n",
       "      <td>NaN</td>\n",
       "      <td>2016 Summer</td>\n",
       "      <td>2016</td>\n",
       "      <td>Summer</td>\n",
       "      <td>Rio de Janeiro</td>\n",
       "      <td>Swimming</td>\n",
       "      <td>Swimming Men's 100 metres Freestyle</td>\n",
       "      <td>NaN</td>\n",
       "    </tr>\n",
       "    <tr>\n",
       "      <th>7909</th>\n",
       "      <td>4379</td>\n",
       "      <td>Rami Anis</td>\n",
       "      <td>M</td>\n",
       "      <td>25.0</td>\n",
       "      <td>178.0</td>\n",
       "      <td>78.0</td>\n",
       "      <td>Refugee Olympic Athletes</td>\n",
       "      <td>NaN</td>\n",
       "      <td>2016 Summer</td>\n",
       "      <td>2016</td>\n",
       "      <td>Summer</td>\n",
       "      <td>Rio de Janeiro</td>\n",
       "      <td>Swimming</td>\n",
       "      <td>Swimming Men's 100 metres Butterfly</td>\n",
       "      <td>NaN</td>\n",
       "    </tr>\n",
       "    <tr>\n",
       "      <th>21529</th>\n",
       "      <td>11364</td>\n",
       "      <td>Yiech Pur Biel</td>\n",
       "      <td>M</td>\n",
       "      <td>21.0</td>\n",
       "      <td>178.0</td>\n",
       "      <td>62.0</td>\n",
       "      <td>Refugee Olympic Athletes</td>\n",
       "      <td>NaN</td>\n",
       "      <td>2016 Summer</td>\n",
       "      <td>2016</td>\n",
       "      <td>Summer</td>\n",
       "      <td>Rio de Janeiro</td>\n",
       "      <td>Athletics</td>\n",
       "      <td>Athletics Men's 800 metres</td>\n",
       "      <td>NaN</td>\n",
       "    </tr>\n",
       "    <tr>\n",
       "      <th>31708</th>\n",
       "      <td>16287</td>\n",
       "      <td>Mabika Yolande Bukasa</td>\n",
       "      <td>F</td>\n",
       "      <td>28.0</td>\n",
       "      <td>170.0</td>\n",
       "      <td>70.0</td>\n",
       "      <td>Refugee Olympic Athletes</td>\n",
       "      <td>NaN</td>\n",
       "      <td>2016 Summer</td>\n",
       "      <td>2016</td>\n",
       "      <td>Summer</td>\n",
       "      <td>Rio de Janeiro</td>\n",
       "      <td>Judo</td>\n",
       "      <td>Judo Women's Middleweight</td>\n",
       "      <td>NaN</td>\n",
       "    </tr>\n",
       "    <tr>\n",
       "      <th>40238</th>\n",
       "      <td>20693</td>\n",
       "      <td>James Nyang Chiengjiek</td>\n",
       "      <td>M</td>\n",
       "      <td>24.0</td>\n",
       "      <td>179.0</td>\n",
       "      <td>59.0</td>\n",
       "      <td>Refugee Olympic Athletes</td>\n",
       "      <td>NaN</td>\n",
       "      <td>2016 Summer</td>\n",
       "      <td>2016</td>\n",
       "      <td>Summer</td>\n",
       "      <td>Rio de Janeiro</td>\n",
       "      <td>Athletics</td>\n",
       "      <td>Athletics Men's 400 metres</td>\n",
       "      <td>NaN</td>\n",
       "    </tr>\n",
       "    <tr>\n",
       "      <th>61080</th>\n",
       "      <td>31292</td>\n",
       "      <td>Fritz Eccard</td>\n",
       "      <td>M</td>\n",
       "      <td>26.0</td>\n",
       "      <td>175.0</td>\n",
       "      <td>71.0</td>\n",
       "      <td>Unknown</td>\n",
       "      <td>NaN</td>\n",
       "      <td>1912 Summer</td>\n",
       "      <td>1912</td>\n",
       "      <td>Summer</td>\n",
       "      <td>Stockholm</td>\n",
       "      <td>Art Competitions</td>\n",
       "      <td>Art Competitions Mixed Architecture</td>\n",
       "      <td>NaN</td>\n",
       "    </tr>\n",
       "    <tr>\n",
       "      <th>64674</th>\n",
       "      <td>33094</td>\n",
       "      <td>Logona Esau</td>\n",
       "      <td>M</td>\n",
       "      <td>21.0</td>\n",
       "      <td>163.0</td>\n",
       "      <td>69.0</td>\n",
       "      <td>Tuvalu</td>\n",
       "      <td>NaN</td>\n",
       "      <td>2008 Summer</td>\n",
       "      <td>2008</td>\n",
       "      <td>Summer</td>\n",
       "      <td>Beijing</td>\n",
       "      <td>Weightlifting</td>\n",
       "      <td>Weightlifting Men's Lightweight</td>\n",
       "      <td>NaN</td>\n",
       "    </tr>\n",
       "    <tr>\n",
       "      <th>119392</th>\n",
       "      <td>60444</td>\n",
       "      <td>Yonas Kinde</td>\n",
       "      <td>M</td>\n",
       "      <td>36.0</td>\n",
       "      <td>172.0</td>\n",
       "      <td>57.0</td>\n",
       "      <td>Refugee Olympic Athletes</td>\n",
       "      <td>NaN</td>\n",
       "      <td>2016 Summer</td>\n",
       "      <td>2016</td>\n",
       "      <td>Summer</td>\n",
       "      <td>Rio de Janeiro</td>\n",
       "      <td>Athletics</td>\n",
       "      <td>Athletics Men's Marathon</td>\n",
       "      <td>NaN</td>\n",
       "    </tr>\n",
       "    <tr>\n",
       "      <th>130721</th>\n",
       "      <td>65813</td>\n",
       "      <td>A. Laffen</td>\n",
       "      <td>M</td>\n",
       "      <td>26.0</td>\n",
       "      <td>175.0</td>\n",
       "      <td>71.0</td>\n",
       "      <td>Unknown</td>\n",
       "      <td>NaN</td>\n",
       "      <td>1912 Summer</td>\n",
       "      <td>1912</td>\n",
       "      <td>Summer</td>\n",
       "      <td>Stockholm</td>\n",
       "      <td>Art Competitions</td>\n",
       "      <td>Art Competitions Mixed Architecture</td>\n",
       "      <td>NaN</td>\n",
       "    </tr>\n",
       "    <tr>\n",
       "      <th>132436</th>\n",
       "      <td>66655</td>\n",
       "      <td>Tuau Lapua Lapua</td>\n",
       "      <td>M</td>\n",
       "      <td>21.0</td>\n",
       "      <td>140.0</td>\n",
       "      <td>62.0</td>\n",
       "      <td>Tuvalu</td>\n",
       "      <td>NaN</td>\n",
       "      <td>2012 Summer</td>\n",
       "      <td>2012</td>\n",
       "      <td>Summer</td>\n",
       "      <td>London</td>\n",
       "      <td>Weightlifting</td>\n",
       "      <td>Weightlifting Men's Featherweight</td>\n",
       "      <td>NaN</td>\n",
       "    </tr>\n",
       "    <tr>\n",
       "      <th>141669</th>\n",
       "      <td>71067</td>\n",
       "      <td>Anjelina Nadai Lohalith</td>\n",
       "      <td>F</td>\n",
       "      <td>23.0</td>\n",
       "      <td>163.0</td>\n",
       "      <td>50.0</td>\n",
       "      <td>Refugee Olympic Athletes</td>\n",
       "      <td>NaN</td>\n",
       "      <td>2016 Summer</td>\n",
       "      <td>2016</td>\n",
       "      <td>Summer</td>\n",
       "      <td>Rio de Janeiro</td>\n",
       "      <td>Athletics</td>\n",
       "      <td>Athletics Women's 1,500 metres</td>\n",
       "      <td>NaN</td>\n",
       "    </tr>\n",
       "    <tr>\n",
       "      <th>141753</th>\n",
       "      <td>71113</td>\n",
       "      <td>Rose Nathike Lokonyen</td>\n",
       "      <td>F</td>\n",
       "      <td>21.0</td>\n",
       "      <td>157.0</td>\n",
       "      <td>50.0</td>\n",
       "      <td>Refugee Olympic Athletes</td>\n",
       "      <td>NaN</td>\n",
       "      <td>2016 Summer</td>\n",
       "      <td>2016</td>\n",
       "      <td>Summer</td>\n",
       "      <td>Rio de Janeiro</td>\n",
       "      <td>Athletics</td>\n",
       "      <td>Athletics Women's 800 metres</td>\n",
       "      <td>NaN</td>\n",
       "    </tr>\n",
       "    <tr>\n",
       "      <th>148612</th>\n",
       "      <td>74540</td>\n",
       "      <td>Asenate Manoa</td>\n",
       "      <td>F</td>\n",
       "      <td>16.0</td>\n",
       "      <td>175.0</td>\n",
       "      <td>46.0</td>\n",
       "      <td>Tuvalu</td>\n",
       "      <td>NaN</td>\n",
       "      <td>2008 Summer</td>\n",
       "      <td>2008</td>\n",
       "      <td>Summer</td>\n",
       "      <td>Beijing</td>\n",
       "      <td>Athletics</td>\n",
       "      <td>Athletics Women's 100 metres</td>\n",
       "      <td>NaN</td>\n",
       "    </tr>\n",
       "    <tr>\n",
       "      <th>148613</th>\n",
       "      <td>74540</td>\n",
       "      <td>Asenate Manoa</td>\n",
       "      <td>F</td>\n",
       "      <td>20.0</td>\n",
       "      <td>175.0</td>\n",
       "      <td>46.0</td>\n",
       "      <td>Tuvalu</td>\n",
       "      <td>NaN</td>\n",
       "      <td>2012 Summer</td>\n",
       "      <td>2012</td>\n",
       "      <td>Summer</td>\n",
       "      <td>London</td>\n",
       "      <td>Athletics</td>\n",
       "      <td>Athletics Women's 100 metres</td>\n",
       "      <td>NaN</td>\n",
       "    </tr>\n",
       "    <tr>\n",
       "      <th>149306</th>\n",
       "      <td>74902</td>\n",
       "      <td>Yusra Mardini</td>\n",
       "      <td>F</td>\n",
       "      <td>18.0</td>\n",
       "      <td>157.0</td>\n",
       "      <td>53.0</td>\n",
       "      <td>Refugee Olympic Athletes</td>\n",
       "      <td>NaN</td>\n",
       "      <td>2016 Summer</td>\n",
       "      <td>2016</td>\n",
       "      <td>Summer</td>\n",
       "      <td>Rio de Janeiro</td>\n",
       "      <td>Swimming</td>\n",
       "      <td>Swimming Women's 100 metres Freestyle</td>\n",
       "      <td>NaN</td>\n",
       "    </tr>\n",
       "    <tr>\n",
       "      <th>149307</th>\n",
       "      <td>74902</td>\n",
       "      <td>Yusra Mardini</td>\n",
       "      <td>F</td>\n",
       "      <td>18.0</td>\n",
       "      <td>157.0</td>\n",
       "      <td>53.0</td>\n",
       "      <td>Refugee Olympic Athletes</td>\n",
       "      <td>NaN</td>\n",
       "      <td>2016 Summer</td>\n",
       "      <td>2016</td>\n",
       "      <td>Summer</td>\n",
       "      <td>Rio de Janeiro</td>\n",
       "      <td>Swimming</td>\n",
       "      <td>Swimming Women's 100 metres Butterfly</td>\n",
       "      <td>NaN</td>\n",
       "    </tr>\n",
       "    <tr>\n",
       "      <th>160069</th>\n",
       "      <td>80325</td>\n",
       "      <td>Popole Misenga</td>\n",
       "      <td>M</td>\n",
       "      <td>24.0</td>\n",
       "      <td>180.0</td>\n",
       "      <td>90.0</td>\n",
       "      <td>Refugee Olympic Athletes</td>\n",
       "      <td>NaN</td>\n",
       "      <td>2016 Summer</td>\n",
       "      <td>2016</td>\n",
       "      <td>Summer</td>\n",
       "      <td>Rio de Janeiro</td>\n",
       "      <td>Judo</td>\n",
       "      <td>Judo Men's Middleweight</td>\n",
       "      <td>NaN</td>\n",
       "    </tr>\n",
       "    <tr>\n",
       "      <th>172492</th>\n",
       "      <td>86663</td>\n",
       "      <td>Tavevele Noa</td>\n",
       "      <td>M</td>\n",
       "      <td>20.0</td>\n",
       "      <td>176.0</td>\n",
       "      <td>74.0</td>\n",
       "      <td>Tuvalu</td>\n",
       "      <td>NaN</td>\n",
       "      <td>2012 Summer</td>\n",
       "      <td>2012</td>\n",
       "      <td>Summer</td>\n",
       "      <td>London</td>\n",
       "      <td>Athletics</td>\n",
       "      <td>Athletics Men's 100 metres</td>\n",
       "      <td>NaN</td>\n",
       "    </tr>\n",
       "    <tr>\n",
       "      <th>240317</th>\n",
       "      <td>120422</td>\n",
       "      <td>Etimoni Timuani</td>\n",
       "      <td>M</td>\n",
       "      <td>24.0</td>\n",
       "      <td>184.0</td>\n",
       "      <td>72.0</td>\n",
       "      <td>Tuvalu</td>\n",
       "      <td>NaN</td>\n",
       "      <td>2016 Summer</td>\n",
       "      <td>2016</td>\n",
       "      <td>Summer</td>\n",
       "      <td>Rio de Janeiro</td>\n",
       "      <td>Athletics</td>\n",
       "      <td>Athletics Men's 100 metres</td>\n",
       "      <td>NaN</td>\n",
       "    </tr>\n",
       "    <tr>\n",
       "      <th>240342</th>\n",
       "      <td>120439</td>\n",
       "      <td>Okilani Tinilau</td>\n",
       "      <td>M</td>\n",
       "      <td>19.0</td>\n",
       "      <td>175.0</td>\n",
       "      <td>71.0</td>\n",
       "      <td>Tuvalu</td>\n",
       "      <td>NaN</td>\n",
       "      <td>2008 Summer</td>\n",
       "      <td>2008</td>\n",
       "      <td>Summer</td>\n",
       "      <td>Beijing</td>\n",
       "      <td>Athletics</td>\n",
       "      <td>Athletics Men's 100 metres</td>\n",
       "      <td>NaN</td>\n",
       "    </tr>\n",
       "  </tbody>\n",
       "</table>\n",
       "</div>"
      ],
      "text/plain": [
       "            ID                     Name Gender   Age  Height  Weight  \\\n",
       "6267      3515      Paulo Amotun Lokoro      M  24.0   170.0    61.0   \n",
       "7908      4379                Rami Anis      M  25.0   178.0    78.0   \n",
       "7909      4379                Rami Anis      M  25.0   178.0    78.0   \n",
       "21529    11364           Yiech Pur Biel      M  21.0   178.0    62.0   \n",
       "31708    16287    Mabika Yolande Bukasa      F  28.0   170.0    70.0   \n",
       "40238    20693   James Nyang Chiengjiek      M  24.0   179.0    59.0   \n",
       "61080    31292             Fritz Eccard      M  26.0   175.0    71.0   \n",
       "64674    33094              Logona Esau      M  21.0   163.0    69.0   \n",
       "119392   60444              Yonas Kinde      M  36.0   172.0    57.0   \n",
       "130721   65813                A. Laffen      M  26.0   175.0    71.0   \n",
       "132436   66655         Tuau Lapua Lapua      M  21.0   140.0    62.0   \n",
       "141669   71067  Anjelina Nadai Lohalith      F  23.0   163.0    50.0   \n",
       "141753   71113    Rose Nathike Lokonyen      F  21.0   157.0    50.0   \n",
       "148612   74540            Asenate Manoa      F  16.0   175.0    46.0   \n",
       "148613   74540            Asenate Manoa      F  20.0   175.0    46.0   \n",
       "149306   74902            Yusra Mardini      F  18.0   157.0    53.0   \n",
       "149307   74902            Yusra Mardini      F  18.0   157.0    53.0   \n",
       "160069   80325           Popole Misenga      M  24.0   180.0    90.0   \n",
       "172492   86663             Tavevele Noa      M  20.0   176.0    74.0   \n",
       "240317  120422          Etimoni Timuani      M  24.0   184.0    72.0   \n",
       "240342  120439          Okilani Tinilau      M  19.0   175.0    71.0   \n",
       "\n",
       "                            Team regions        Games  Year  Season  \\\n",
       "6267    Refugee Olympic Athletes     NaN  2016 Summer  2016  Summer   \n",
       "7908    Refugee Olympic Athletes     NaN  2016 Summer  2016  Summer   \n",
       "7909    Refugee Olympic Athletes     NaN  2016 Summer  2016  Summer   \n",
       "21529   Refugee Olympic Athletes     NaN  2016 Summer  2016  Summer   \n",
       "31708   Refugee Olympic Athletes     NaN  2016 Summer  2016  Summer   \n",
       "40238   Refugee Olympic Athletes     NaN  2016 Summer  2016  Summer   \n",
       "61080                    Unknown     NaN  1912 Summer  1912  Summer   \n",
       "64674                     Tuvalu     NaN  2008 Summer  2008  Summer   \n",
       "119392  Refugee Olympic Athletes     NaN  2016 Summer  2016  Summer   \n",
       "130721                   Unknown     NaN  1912 Summer  1912  Summer   \n",
       "132436                    Tuvalu     NaN  2012 Summer  2012  Summer   \n",
       "141669  Refugee Olympic Athletes     NaN  2016 Summer  2016  Summer   \n",
       "141753  Refugee Olympic Athletes     NaN  2016 Summer  2016  Summer   \n",
       "148612                    Tuvalu     NaN  2008 Summer  2008  Summer   \n",
       "148613                    Tuvalu     NaN  2012 Summer  2012  Summer   \n",
       "149306  Refugee Olympic Athletes     NaN  2016 Summer  2016  Summer   \n",
       "149307  Refugee Olympic Athletes     NaN  2016 Summer  2016  Summer   \n",
       "160069  Refugee Olympic Athletes     NaN  2016 Summer  2016  Summer   \n",
       "172492                    Tuvalu     NaN  2012 Summer  2012  Summer   \n",
       "240317                    Tuvalu     NaN  2016 Summer  2016  Summer   \n",
       "240342                    Tuvalu     NaN  2008 Summer  2008  Summer   \n",
       "\n",
       "                  City             Sport  \\\n",
       "6267    Rio de Janeiro         Athletics   \n",
       "7908    Rio de Janeiro          Swimming   \n",
       "7909    Rio de Janeiro          Swimming   \n",
       "21529   Rio de Janeiro         Athletics   \n",
       "31708   Rio de Janeiro              Judo   \n",
       "40238   Rio de Janeiro         Athletics   \n",
       "61080        Stockholm  Art Competitions   \n",
       "64674          Beijing     Weightlifting   \n",
       "119392  Rio de Janeiro         Athletics   \n",
       "130721       Stockholm  Art Competitions   \n",
       "132436          London     Weightlifting   \n",
       "141669  Rio de Janeiro         Athletics   \n",
       "141753  Rio de Janeiro         Athletics   \n",
       "148612         Beijing         Athletics   \n",
       "148613          London         Athletics   \n",
       "149306  Rio de Janeiro          Swimming   \n",
       "149307  Rio de Janeiro          Swimming   \n",
       "160069  Rio de Janeiro              Judo   \n",
       "172492          London         Athletics   \n",
       "240317  Rio de Janeiro         Athletics   \n",
       "240342         Beijing         Athletics   \n",
       "\n",
       "                                        Event Medal  \n",
       "6267             Athletics Men's 1,500 metres   NaN  \n",
       "7908      Swimming Men's 100 metres Freestyle   NaN  \n",
       "7909      Swimming Men's 100 metres Butterfly   NaN  \n",
       "21529              Athletics Men's 800 metres   NaN  \n",
       "31708               Judo Women's Middleweight   NaN  \n",
       "40238              Athletics Men's 400 metres   NaN  \n",
       "61080     Art Competitions Mixed Architecture   NaN  \n",
       "64674         Weightlifting Men's Lightweight   NaN  \n",
       "119392               Athletics Men's Marathon   NaN  \n",
       "130721    Art Competitions Mixed Architecture   NaN  \n",
       "132436      Weightlifting Men's Featherweight   NaN  \n",
       "141669         Athletics Women's 1,500 metres   NaN  \n",
       "141753           Athletics Women's 800 metres   NaN  \n",
       "148612           Athletics Women's 100 metres   NaN  \n",
       "148613           Athletics Women's 100 metres   NaN  \n",
       "149306  Swimming Women's 100 metres Freestyle   NaN  \n",
       "149307  Swimming Women's 100 metres Butterfly   NaN  \n",
       "160069                Judo Men's Middleweight   NaN  \n",
       "172492             Athletics Men's 100 metres   NaN  \n",
       "240317             Athletics Men's 100 metres   NaN  \n",
       "240342             Athletics Men's 100 metres   NaN  "
      ]
     },
     "execution_count": 35,
     "metadata": {},
     "output_type": "execute_result"
    }
   ],
   "source": [
    "ath[ath['regions'].isnull()]"
   ]
  },
  {
   "cell_type": "markdown",
   "id": "21b9cb5a-9f35-4f74-b2d5-658122e9fd96",
   "metadata": {},
   "source": [
    "4. Handling the null values in the column 'Medals'"
   ]
  },
  {
   "cell_type": "code",
   "execution_count": 36,
   "id": "f8208114-262e-43ab-994c-cac148be6917",
   "metadata": {},
   "outputs": [
    {
     "data": {
      "text/plain": [
       "array([nan, 'Gold', 'Bronze', 'Silver'], dtype=object)"
      ]
     },
     "execution_count": 36,
     "metadata": {},
     "output_type": "execute_result"
    }
   ],
   "source": [
    "#Unique values in Medal column\n",
    "ath.Medal.unique()"
   ]
  },
  {
   "cell_type": "code",
   "execution_count": 37,
   "id": "557c0c09-167e-49e3-b45e-735ebf12e131",
   "metadata": {},
   "outputs": [
    {
     "data": {
      "text/plain": [
       "Medal\n",
       "Gold      13372\n",
       "Bronze    13295\n",
       "Silver    13116\n",
       "Name: count, dtype: int64"
      ]
     },
     "execution_count": 37,
     "metadata": {},
     "output_type": "execute_result"
    }
   ],
   "source": [
    "# Count of each unique value\n",
    "ath.Medal.value_counts()"
   ]
  },
  {
   "cell_type": "code",
   "execution_count": 38,
   "id": "8fb533b3-f365-4bde-9deb-50f4250f5968",
   "metadata": {},
   "outputs": [],
   "source": [
    "# Replacing\n",
    "# NaN - 0, Gold - 1 , Silver - 2, Bronze - 3\n",
    "\n",
    "ath['Medal'].replace([np.nan,'Gold','Silver','Bronze'],[0,1,2,3],inplace=True)"
   ]
  },
  {
   "cell_type": "code",
   "execution_count": 39,
   "id": "8dc9d5f9-d9b7-43ea-a4a1-5437bed9772c",
   "metadata": {},
   "outputs": [
    {
     "data": {
      "text/plain": [
       "ID          0\n",
       "Name        0\n",
       "Gender      0\n",
       "Age         0\n",
       "Height      0\n",
       "Weight      0\n",
       "Team        0\n",
       "regions    21\n",
       "Games       0\n",
       "Year        0\n",
       "Season      0\n",
       "City        0\n",
       "Sport       0\n",
       "Event       0\n",
       "Medal       0\n",
       "dtype: int64"
      ]
     },
     "execution_count": 39,
     "metadata": {},
     "output_type": "execute_result"
    }
   ],
   "source": [
    "ath.isnull().sum()"
   ]
  },
  {
   "cell_type": "markdown",
   "id": "1122173a-f801-4f81-90de-23a909412af0",
   "metadata": {},
   "source": [
    "5. Dropping off the unwanted columns - regions, Games"
   ]
  },
  {
   "cell_type": "code",
   "execution_count": 40,
   "id": "94d1055d-15a1-4556-8abb-2afb3864f9c9",
   "metadata": {},
   "outputs": [
    {
     "data": {
      "text/html": [
       "<div>\n",
       "<style scoped>\n",
       "    .dataframe tbody tr th:only-of-type {\n",
       "        vertical-align: middle;\n",
       "    }\n",
       "\n",
       "    .dataframe tbody tr th {\n",
       "        vertical-align: top;\n",
       "    }\n",
       "\n",
       "    .dataframe thead th {\n",
       "        text-align: right;\n",
       "    }\n",
       "</style>\n",
       "<table border=\"1\" class=\"dataframe\">\n",
       "  <thead>\n",
       "    <tr style=\"text-align: right;\">\n",
       "      <th></th>\n",
       "      <th>ID</th>\n",
       "      <th>Name</th>\n",
       "      <th>Gender</th>\n",
       "      <th>Age</th>\n",
       "      <th>Height</th>\n",
       "      <th>Weight</th>\n",
       "      <th>Team</th>\n",
       "      <th>regions</th>\n",
       "      <th>Games</th>\n",
       "      <th>Year</th>\n",
       "      <th>Season</th>\n",
       "      <th>City</th>\n",
       "      <th>Sport</th>\n",
       "      <th>Event</th>\n",
       "      <th>Medal</th>\n",
       "    </tr>\n",
       "  </thead>\n",
       "  <tbody>\n",
       "    <tr>\n",
       "      <th>0</th>\n",
       "      <td>1</td>\n",
       "      <td>A Dijiang</td>\n",
       "      <td>M</td>\n",
       "      <td>24.0</td>\n",
       "      <td>180.0</td>\n",
       "      <td>80.0</td>\n",
       "      <td>China</td>\n",
       "      <td>China</td>\n",
       "      <td>1992 Summer</td>\n",
       "      <td>1992</td>\n",
       "      <td>Summer</td>\n",
       "      <td>Barcelona</td>\n",
       "      <td>Basketball</td>\n",
       "      <td>Basketball Men's Basketball</td>\n",
       "      <td>0</td>\n",
       "    </tr>\n",
       "    <tr>\n",
       "      <th>1</th>\n",
       "      <td>2</td>\n",
       "      <td>A Lamusi</td>\n",
       "      <td>M</td>\n",
       "      <td>23.0</td>\n",
       "      <td>170.0</td>\n",
       "      <td>60.0</td>\n",
       "      <td>China</td>\n",
       "      <td>China</td>\n",
       "      <td>2012 Summer</td>\n",
       "      <td>2012</td>\n",
       "      <td>Summer</td>\n",
       "      <td>London</td>\n",
       "      <td>Judo</td>\n",
       "      <td>Judo Men's Extra-Lightweight</td>\n",
       "      <td>0</td>\n",
       "    </tr>\n",
       "  </tbody>\n",
       "</table>\n",
       "</div>"
      ],
      "text/plain": [
       "   ID       Name Gender   Age  Height  Weight   Team regions        Games  \\\n",
       "0   1  A Dijiang      M  24.0   180.0    80.0  China   China  1992 Summer   \n",
       "1   2   A Lamusi      M  23.0   170.0    60.0  China   China  2012 Summer   \n",
       "\n",
       "   Year  Season       City       Sport                         Event  Medal  \n",
       "0  1992  Summer  Barcelona  Basketball   Basketball Men's Basketball      0  \n",
       "1  2012  Summer     London        Judo  Judo Men's Extra-Lightweight      0  "
      ]
     },
     "execution_count": 40,
     "metadata": {},
     "output_type": "execute_result"
    }
   ],
   "source": [
    "ath.head(2)"
   ]
  },
  {
   "cell_type": "code",
   "execution_count": 41,
   "id": "7fb003d4-75c9-487d-9981-651d6f6a8761",
   "metadata": {},
   "outputs": [],
   "source": [
    "ath.drop(['regions','Games'],axis=1,inplace=True)"
   ]
  },
  {
   "cell_type": "markdown",
   "id": "35fb3394-7019-4947-9ba2-5497dd464842",
   "metadata": {},
   "source": [
    "6. Remove the unwanted phrases from the Event column"
   ]
  },
  {
   "cell_type": "code",
   "execution_count": 42,
   "id": "51f32055-09ae-48b6-818e-b7ff68fa1d72",
   "metadata": {},
   "outputs": [
    {
     "data": {
      "text/html": [
       "<div>\n",
       "<style scoped>\n",
       "    .dataframe tbody tr th:only-of-type {\n",
       "        vertical-align: middle;\n",
       "    }\n",
       "\n",
       "    .dataframe tbody tr th {\n",
       "        vertical-align: top;\n",
       "    }\n",
       "\n",
       "    .dataframe thead th {\n",
       "        text-align: right;\n",
       "    }\n",
       "</style>\n",
       "<table border=\"1\" class=\"dataframe\">\n",
       "  <thead>\n",
       "    <tr style=\"text-align: right;\">\n",
       "      <th></th>\n",
       "      <th>ID</th>\n",
       "      <th>Name</th>\n",
       "      <th>Gender</th>\n",
       "      <th>Age</th>\n",
       "      <th>Height</th>\n",
       "      <th>Weight</th>\n",
       "      <th>Team</th>\n",
       "      <th>Year</th>\n",
       "      <th>Season</th>\n",
       "      <th>City</th>\n",
       "      <th>Sport</th>\n",
       "      <th>Event</th>\n",
       "      <th>Medal</th>\n",
       "    </tr>\n",
       "  </thead>\n",
       "  <tbody>\n",
       "    <tr>\n",
       "      <th>0</th>\n",
       "      <td>1</td>\n",
       "      <td>A Dijiang</td>\n",
       "      <td>M</td>\n",
       "      <td>24.0</td>\n",
       "      <td>180.0</td>\n",
       "      <td>80.0</td>\n",
       "      <td>China</td>\n",
       "      <td>1992</td>\n",
       "      <td>Summer</td>\n",
       "      <td>Barcelona</td>\n",
       "      <td>Basketball</td>\n",
       "      <td>Basketball Men's Basketball</td>\n",
       "      <td>0</td>\n",
       "    </tr>\n",
       "    <tr>\n",
       "      <th>1</th>\n",
       "      <td>2</td>\n",
       "      <td>A Lamusi</td>\n",
       "      <td>M</td>\n",
       "      <td>23.0</td>\n",
       "      <td>170.0</td>\n",
       "      <td>60.0</td>\n",
       "      <td>China</td>\n",
       "      <td>2012</td>\n",
       "      <td>Summer</td>\n",
       "      <td>London</td>\n",
       "      <td>Judo</td>\n",
       "      <td>Judo Men's Extra-Lightweight</td>\n",
       "      <td>0</td>\n",
       "    </tr>\n",
       "    <tr>\n",
       "      <th>2</th>\n",
       "      <td>3</td>\n",
       "      <td>Gunnar Nielsen Aaby</td>\n",
       "      <td>M</td>\n",
       "      <td>24.0</td>\n",
       "      <td>175.0</td>\n",
       "      <td>71.0</td>\n",
       "      <td>Denmark</td>\n",
       "      <td>1920</td>\n",
       "      <td>Summer</td>\n",
       "      <td>Antwerpen</td>\n",
       "      <td>Football</td>\n",
       "      <td>Football Men's Football</td>\n",
       "      <td>0</td>\n",
       "    </tr>\n",
       "    <tr>\n",
       "      <th>3</th>\n",
       "      <td>4</td>\n",
       "      <td>Edgar Lindenau Aabye</td>\n",
       "      <td>M</td>\n",
       "      <td>34.0</td>\n",
       "      <td>175.0</td>\n",
       "      <td>71.0</td>\n",
       "      <td>Denmark/Sweden</td>\n",
       "      <td>1900</td>\n",
       "      <td>Summer</td>\n",
       "      <td>Paris</td>\n",
       "      <td>Tug-Of-War</td>\n",
       "      <td>Tug-Of-War Men's Tug-Of-War</td>\n",
       "      <td>1</td>\n",
       "    </tr>\n",
       "    <tr>\n",
       "      <th>4</th>\n",
       "      <td>5</td>\n",
       "      <td>Christine Jacoba Aaftink</td>\n",
       "      <td>F</td>\n",
       "      <td>21.0</td>\n",
       "      <td>185.0</td>\n",
       "      <td>82.0</td>\n",
       "      <td>Netherlands</td>\n",
       "      <td>1988</td>\n",
       "      <td>Winter</td>\n",
       "      <td>Calgary</td>\n",
       "      <td>Speed Skating</td>\n",
       "      <td>Speed Skating Women's 500 metres</td>\n",
       "      <td>0</td>\n",
       "    </tr>\n",
       "  </tbody>\n",
       "</table>\n",
       "</div>"
      ],
      "text/plain": [
       "   ID                      Name Gender   Age  Height  Weight            Team  \\\n",
       "0   1                 A Dijiang      M  24.0   180.0    80.0           China   \n",
       "1   2                  A Lamusi      M  23.0   170.0    60.0           China   \n",
       "2   3       Gunnar Nielsen Aaby      M  24.0   175.0    71.0         Denmark   \n",
       "3   4      Edgar Lindenau Aabye      M  34.0   175.0    71.0  Denmark/Sweden   \n",
       "4   5  Christine Jacoba Aaftink      F  21.0   185.0    82.0     Netherlands   \n",
       "\n",
       "   Year  Season       City          Sport                             Event  \\\n",
       "0  1992  Summer  Barcelona     Basketball       Basketball Men's Basketball   \n",
       "1  2012  Summer     London           Judo      Judo Men's Extra-Lightweight   \n",
       "2  1920  Summer  Antwerpen       Football           Football Men's Football   \n",
       "3  1900  Summer      Paris     Tug-Of-War       Tug-Of-War Men's Tug-Of-War   \n",
       "4  1988  Winter    Calgary  Speed Skating  Speed Skating Women's 500 metres   \n",
       "\n",
       "   Medal  \n",
       "0      0  \n",
       "1      0  \n",
       "2      0  \n",
       "3      1  \n",
       "4      0  "
      ]
     },
     "execution_count": 42,
     "metadata": {},
     "output_type": "execute_result"
    }
   ],
   "source": [
    "ath.head()"
   ]
  },
  {
   "cell_type": "code",
   "execution_count": 43,
   "id": "13d19f98-3fce-4587-9cef-ef3975f900ef",
   "metadata": {},
   "outputs": [],
   "source": [
    "# Creating a list by removing unwanted phrases from Event column\n",
    "Events = [re.sub(f'{ath.Sport[i]}\\s','',ath.Event[i]) for i in range(len(ath))]"
   ]
  },
  {
   "cell_type": "code",
   "execution_count": 44,
   "id": "01956082-08dc-41d9-b59b-05df3736c5f9",
   "metadata": {},
   "outputs": [],
   "source": [
    "# Using the list to create a series and assigning to the event column\n",
    "ath.Event = pd.Series(Events)"
   ]
  },
  {
   "cell_type": "markdown",
   "id": "e30f4e24-87bb-46bb-9f6b-d04c4968200e",
   "metadata": {},
   "source": [
    "7. Changing the dtype of the 'Age' column as int"
   ]
  },
  {
   "cell_type": "code",
   "execution_count": 45,
   "id": "89b457df-0acd-4fdd-8bb0-99dbea9deb10",
   "metadata": {},
   "outputs": [],
   "source": [
    "ath['Age'] = ath['Age'].astype(int)"
   ]
  },
  {
   "cell_type": "code",
   "execution_count": 46,
   "id": "677f5493-2c61-4b33-9d13-463958db4348",
   "metadata": {},
   "outputs": [
    {
     "name": "stdout",
     "output_type": "stream",
     "text": [
      "<class 'pandas.core.frame.DataFrame'>\n",
      "RangeIndex: 271116 entries, 0 to 271115\n",
      "Data columns (total 13 columns):\n",
      " #   Column  Non-Null Count   Dtype  \n",
      "---  ------  --------------   -----  \n",
      " 0   ID      271116 non-null  int64  \n",
      " 1   Name    271116 non-null  object \n",
      " 2   Gender  271116 non-null  object \n",
      " 3   Age     271116 non-null  int32  \n",
      " 4   Height  271116 non-null  float64\n",
      " 5   Weight  271116 non-null  float64\n",
      " 6   Team    271116 non-null  object \n",
      " 7   Year    271116 non-null  int64  \n",
      " 8   Season  271116 non-null  object \n",
      " 9   City    271116 non-null  object \n",
      " 10  Sport   271116 non-null  object \n",
      " 11  Event   271116 non-null  object \n",
      " 12  Medal   271116 non-null  int64  \n",
      "dtypes: float64(2), int32(1), int64(3), object(7)\n",
      "memory usage: 25.9+ MB\n"
     ]
    }
   ],
   "source": [
    "ath.info()"
   ]
  },
  {
   "cell_type": "markdown",
   "id": "99ffe8ec-3fa2-4681-aa09-fb92c112cce3",
   "metadata": {},
   "source": [
    "# Exporting the DataFrame"
   ]
  },
  {
   "cell_type": "code",
   "execution_count": 47,
   "id": "02b34fd7-ade1-4f96-8ddb-221511ca6da1",
   "metadata": {},
   "outputs": [],
   "source": [
    "ath.to_csv(\"Atheletes_Dataset.csv\")"
   ]
  },
  {
   "cell_type": "markdown",
   "id": "0c040b78-47ad-4176-b6c7-033a2747a501",
   "metadata": {},
   "source": [
    "# Data Analysis"
   ]
  },
  {
   "cell_type": "markdown",
   "id": "08842903-485c-4352-b195-49ceb6c5f3f3",
   "metadata": {},
   "source": [
    "1. Show the relationship between Height and weight."
   ]
  },
  {
   "cell_type": "code",
   "execution_count": 48,
   "id": "c6f44d19-bfb4-4bec-b661-a458e22365e3",
   "metadata": {},
   "outputs": [
    {
     "data": {
      "image/png": "[encoded data removed]",
      "text/plain": [
       "<Figure size 600x400 with 1 Axes>"
      ]
     },
     "metadata": {},
     "output_type": "display_data"
    }
   ],
   "source": [
    "plt.figure(figsize=(6,4))\n",
    "plt.scatter(ath['Height'],ath['Weight'])\n",
    "plt.title(\"Height v/s Weight\")\n",
    "plt.xlabel(\"Height\")\n",
    "plt.ylabel(\"Weight\")\n",
    "plt.show()"
   ]
  },
  {
   "cell_type": "markdown",
   "id": "5cb48ffb-30e5-4836-95cb-6007218285a1",
   "metadata": {},
   "source": [
    "<h3>Conclusion</h3>\n",
    "<p>From the above scatterplot we can conclude a positive correlation between the height and weight. We can see that increase in height leads to increase in weight, also there are more athletes that have a above average height.</p>"
   ]
  },
  {
   "cell_type": "markdown",
   "id": "de7e23a3-f172-43e9-a69f-5f7bd1ccbc25",
   "metadata": {},
   "source": [
    "2. Find out how many male and female had participated the olympics during 1896 to 2016"
   ]
  },
  {
   "cell_type": "code",
   "execution_count": 49,
   "id": "9fe46b01-aa61-4d82-8b42-9236b6fe7e74",
   "metadata": {},
   "outputs": [
    {
     "data": {
      "text/plain": [
       "{'M': 196594, 'F': 74522}"
      ]
     },
     "execution_count": 49,
     "metadata": {},
     "output_type": "execute_result"
    }
   ],
   "source": [
    "ath.Gender.value_counts().to_dict()"
   ]
  },
  {
   "cell_type": "code",
   "execution_count": 60,
   "id": "738988f1-2dd4-43a1-a217-4d1c28e4572c",
   "metadata": {},
   "outputs": [
    {
     "data": {
      "image/png": "[encoded data removed]",
      "text/plain": [
       "<Figure size 640x480 with 1 Axes>"
      ]
     },
     "metadata": {},
     "output_type": "display_data"
    }
   ],
   "source": [
    "plt.bar([\"Male\",\"Female\"],ath.Gender.value_counts().to_list())\n",
    "plt.title('Male & Female participation')\n",
    "plt.xlabel('Gender')\n",
    "plt.ylabel('Count')\n",
    "plt.grid(axis='y',color='k')\n",
    "plt.show()"
   ]
  },
  {
   "cell_type": "markdown",
   "id": "63e59c98-8b43-41d7-b662-dfdde325d95c",
   "metadata": {},
   "source": [
    "<h3>Conclusion</h3>\n",
    "<p>From the above bar graph we can conclude that a larger number of male players have participated in olympics compared to female players.</p>"
   ]
  },
  {
   "cell_type": "markdown",
   "id": "046fc45f-79c3-4f9d-b31c-cbc05a77e2da",
   "metadata": {},
   "source": [
    "3. How many Male and Femalehave participated in summer and winter olympics"
   ]
  },
  {
   "cell_type": "code",
   "execution_count": 51,
   "id": "d4ea6c48-1aee-4f0d-9af7-0cf46092367b",
   "metadata": {},
   "outputs": [],
   "source": [
    "import plotly.express as px\n",
    "import plotly.io as pio"
   ]
  },
  {
   "cell_type": "code",
   "execution_count": 59,
   "id": "045b74ae-86f4-4bb3-91ff-996ec31cf9a3",
   "metadata": {},
   "outputs": [
    {
     "data": {
      "text/html": [
       "<iframe\n",
       "    scrolling=\"no\"\n",
       "    width=\"100%\"\n",
       "    height=\"545px\"\n",
       "    src=\"iframe_figures/figure_59.html\"\n",
       "    frameborder=\"0\"\n",
       "    allowfullscreen\n",
       "></iframe>\n"
      ]
     },
     "metadata": {},
     "output_type": "display_data"
    }
   ],
   "source": [
    "fig = px.histogram(ath, x= ath.Season,color=ath.Gender,barmode='group',title='Season-Gender Participation Count')\n",
    "pio.renderers.default = 'iframe'\n",
    "fig.show()"
   ]
  },
  {
   "cell_type": "markdown",
   "id": "90985736-594a-4b4d-b9a0-8ee8b28f1ab9",
   "metadata": {},
   "source": [
    "<h3>Conclusion</h3>\n",
    "<p>From the above graph we can see a higher participation in summer olympics compared to winter olympics.</p>"
   ]
  },
  {
   "cell_type": "markdown",
   "id": "aa0800f2-dce1-473a-81f6-2253eb166b40",
   "metadata": {},
   "source": [
    "4. Name the top 5 countries who have the most medals"
   ]
  },
  {
   "cell_type": "code",
   "execution_count": 53,
   "id": "ea75e5d0-310b-4b53-a16b-7545d7a211a0",
   "metadata": {},
   "outputs": [],
   "source": [
    "Medal_count = ath[(ath.Medal == 1) |(ath.Medal == 2)|(ath.Medal == 3)]['Medal'].groupby(ath.Team).count().sort_values(ascending=False).head()"
   ]
  },
  {
   "cell_type": "code",
   "execution_count": 54,
   "id": "2bcbae2e-72cb-4eda-9bcb-e9eb4086dc8e",
   "metadata": {},
   "outputs": [
    {
     "data": {
      "text/html": [
       "<iframe\n",
       "    scrolling=\"no\"\n",
       "    width=\"100%\"\n",
       "    height=\"545px\"\n",
       "    src=\"iframe_figures/figure_54.html\"\n",
       "    frameborder=\"0\"\n",
       "    allowfullscreen\n",
       "></iframe>\n"
      ]
     },
     "metadata": {},
     "output_type": "display_data"
    }
   ],
   "source": [
    "fig = px.bar(Medal_count,title='Top 5 Countries in Olympics')\n",
    "fig.show()"
   ]
  },
  {
   "cell_type": "markdown",
   "id": "9b2d5cf9-a79e-476a-8a41-41693a6cc70a",
   "metadata": {},
   "source": [
    "<h3>Conclusion</h3>\n",
    "<p>From the above graph we can see that US has the earned the highest number of medals followed by Soviet Union, Germany, Great Britain,and France.</p>"
   ]
  },
  {
   "cell_type": "markdown",
   "id": "0f5333fc-0883-45d0-aeab-c23051e51a52",
   "metadata": {},
   "source": [
    "5. Show the Male and Female participation count through out the past organized Olympics."
   ]
  },
  {
   "cell_type": "code",
   "execution_count": 55,
   "id": "521f122d-1e64-44dd-8e5d-0d2950e38343",
   "metadata": {},
   "outputs": [
    {
     "data": {
      "text/html": [
       "<iframe\n",
       "    scrolling=\"no\"\n",
       "    width=\"100%\"\n",
       "    height=\"545px\"\n",
       "    src=\"iframe_figures/figure_55.html\"\n",
       "    frameborder=\"0\"\n",
       "    allowfullscreen\n",
       "></iframe>\n"
      ]
     },
     "metadata": {},
     "output_type": "display_data"
    }
   ],
   "source": [
    "fig = px.histogram(ath,x=ath.Year,color=ath.Gender,title='Male & Female Participation Count')\n",
    "fig.show()"
   ]
  },
  {
   "cell_type": "markdown",
   "id": "b255c6ff-f13b-4d3c-93ce-ba5e77f3c711",
   "metadata": {},
   "source": [
    "<h3>Conculsion</h3>\n",
    "<p>In the above graph we can see a gradual increase in female participation throughout the years.</p>"
   ]
  },
  {
   "cell_type": "markdown",
   "id": "d3ba00e1-e15b-4a91-a0fc-a956193af67a",
   "metadata": {},
   "source": [
    "6. Show the medal count for No medal - 0, gold - 1, silver - 2 and bronze - 3 throughout the age group."
   ]
  },
  {
   "cell_type": "code",
   "execution_count": 58,
   "id": "3a35bda7-c777-42eb-92b6-d55639195a09",
   "metadata": {},
   "outputs": [
    {
     "data": {
      "text/html": [
       "<iframe\n",
       "    scrolling=\"no\"\n",
       "    width=\"100%\"\n",
       "    height=\"545px\"\n",
       "    src=\"iframe_figures/figure_58.html\"\n",
       "    frameborder=\"0\"\n",
       "    allowfullscreen\n",
       "></iframe>\n"
      ]
     },
     "metadata": {},
     "output_type": "display_data"
    }
   ],
   "source": [
    "fig = px.histogram(ath,x=ath.Age,color=ath.Medal,title='Medal Count throughout the age group')\n",
    "fig.show()"
   ]
  },
  {
   "cell_type": "markdown",
   "id": "097d2070-ba8f-440e-9773-12a12e8592dd",
   "metadata": {},
   "source": [
    "<h3>Conclusion</h3>\n",
    "<p>In the above graph we can see more number of medals are earned by athletes in the age group 20-30, with a sharp curve on the left which represents a sudden increase of medals in the age group 10-20, while a smoother curve to the right which represents a gradual decrease in the medal count with increasing age of the athletes.</p>"
   ]
  },
  {
   "cell_type": "markdown",
   "id": "4a2fbc5c-abe2-4ed9-86f0-db5d0c4c0830",
   "metadata": {},
   "source": [
    "7. Show the correlation between the columns in the athletes DataFrame."
   ]
  },
  {
   "cell_type": "code",
   "execution_count": 57,
   "id": "5408b94a-2451-4dc2-bd4f-ba6b6680d754",
   "metadata": {},
   "outputs": [
    {
     "data": {
      "image/png": "[encoded data removed]",
      "text/plain": [
       "<Figure size 640x480 with 2 Axes>"
      ]
     },
     "metadata": {},
     "output_type": "display_data"
    }
   ],
   "source": [
    "sns.heatmap(ath[['Age', 'Height', 'Weight', 'Year', 'Medal']].corr(),annot=True)\n",
    "plt.show()"
   ]
  },
  {
   "cell_type": "markdown",
   "id": "0a473323-accb-40e0-addb-68f10d6764f0",
   "metadata": {},
   "source": [
    "<h3>Conclusion</h3>\n",
    "<p>In the above heatmap we can see a higher correlation between height and weight, while the lowest correlation between age of the athlete and year in which the olympic event was held.</p>"
   ]
  }
 ],
 "metadata": {
  "kernelspec": {
   "display_name": "Python 3 (ipykernel)",
   "language": "python",
   "name": "python3"
  },
  "language_info": {
   "codemirror_mode": {
    "name": "ipython",
    "version": 3
   },
   "file_extension": ".py",
   "mimetype": "text/x-python",
   "name": "python",
   "nbconvert_exporter": "python",
   "pygments_lexer": "ipython3",
   "version": "3.11.0"
  }
 },
 "nbformat": 4,
 "nbformat_minor": 5
}
